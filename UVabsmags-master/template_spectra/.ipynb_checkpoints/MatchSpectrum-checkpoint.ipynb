{
 "cells": [
  {
   "cell_type": "markdown",
   "metadata": {},
   "source": [
    "## Spectrum Matching according to the spectrophotometric  colors "
   ]
  },
  {
   "cell_type": "markdown",
   "metadata": {},
   "source": [
    "### Load the filter information (SWIFT_UVOT)"
   ]
  },
  {
   "cell_type": "code",
   "execution_count": 1,
   "metadata": {},
   "outputs": [],
   "source": [
    "from pyphot import Filter\n",
    "import numpy as np\n",
    "import matplotlib.pyplot as plt\n",
    "import extinction\n",
    "\n",
    "\n"
   ]
  },
  {
   "cell_type": "code",
   "execution_count": 10,
   "metadata": {
    "scrolled": true
   },
   "outputs": [],
   "source": [
    "\n",
    "##  filter functions\n",
    "### B band\n",
    "Bdata = open('../filters/B_P08.txt','r')\n",
    "for line in Bdata:\n",
    "    lines = np.genfromtxt(Bdata,dtype = [('wavelength',float),('area',float)],comments='#',usecols=(0,1),unpack = True)\n",
    "lamb_B = lines[0]\n",
    "B = lines[1]\n",
    "### V band \n",
    "Vdata = open('../filters/V_P08.txt','r')\n",
    "for line in Vdata:\n",
    "    lines = np.genfromtxt(Vdata,dtype = [('wavelength',float),('area',float)],usecols=(0,1),unpack = True)\n",
    "lamb_V = lines[0]\n",
    "V = lines[1]\n",
    "###  U band\n",
    "Udata = open('../filters/U_P08.txt','r')\n",
    "for line in Udata:\n",
    "    lines = np.genfromtxt(Udata,dtype = [('wavelength',float),('area',float)],usecols=(0,1),unpack = True)\n",
    "lamb_U = lines[0]\n",
    "U = lines[1]\n",
    "### UVM2\n",
    "UVM2data = open('../filters/UVM2_B11.txt','r')\n",
    "for line in UVM2data:\n",
    "    lines = np.genfromtxt(UVM2data,dtype = [('wavelength',float),('area',float)],usecols=(0,1),unpack = True)\n",
    "lamb_UVM2 = lines[0]\n",
    "UVM2 = lines[1]\n",
    "### UVW2\n",
    "UVW2data = open('../filters/UVW2_B11.txt','r')\n",
    "for line in UVW2data:\n",
    "    lines = np.genfromtxt(UVW2data,dtype = [('wavelength',float),('area',float)],usecols=(0,1),unpack = True)\n",
    "lamb_UVW2 = lines[0]\n",
    "UVW2 = lines[1]\n",
    "###UVW1\n",
    "UVW1data = open('../filters/UVW1_B11.txt','r')\n",
    "for line in UVW1data:\n",
    "    lines = np.genfromtxt(UVW1data,dtype = [('wavelength',float),('area',float)],usecols=(0,1),unpack = True)\n",
    "lamb_UVW1 = lines[0]\n",
    "UVW1 = lines[1]"
   ]
  },
  {
   "cell_type": "code",
   "execution_count": 37,
   "metadata": {},
   "outputs": [
    {
     "data": {
      "text/plain": [
       "[<matplotlib.lines.Line2D at 0x14d870880>,\n",
       " <matplotlib.lines.Line2D at 0x14d8709a0>,\n",
       " <matplotlib.lines.Line2D at 0x14d870ac0>,\n",
       " <matplotlib.lines.Line2D at 0x14d870c10>,\n",
       " <matplotlib.lines.Line2D at 0x14d870be0>,\n",
       " <matplotlib.lines.Line2D at 0x14d870e20>]"
      ]
     },
     "execution_count": 37,
     "metadata": {},
     "output_type": "execute_result"
    },
    {
     "data": {
      "image/png": "[encoded data removed]",
      "text/plain": [
       "<Figure size 432x288 with 1 Axes>"
      ]
     },
     "metadata": {
      "needs_background": "light"
     },
     "output_type": "display_data"
    }
   ],
   "source": [
    "## SWIFT_UVOT_Filter\n",
    "SWIFT_UVOT_B = Filter(lamb_B,B,name = 'SWIFT_UVOT_B',dtype = 'photon',unit = 'Angstrom')\n",
    "SWIFT_UVOT_U = Filter(lamb_U,U,name = 'SWIFT_UVOT_U',dtype = 'photon',unit = 'Angstrom')\n",
    "SWIFT_UVOT_V = Filter(lamb_V,V,name = 'SWIFT_UVOT_V',dtype = 'photon',unit = 'Angstrom')\n",
    "SWIFT_UVOT_UVM2 = Filter(lamb_UVM2, UVM2,name = 'SWIFT_UVOT_UVM2',dtype = 'photon',unit = 'Angstrom')\n",
    "SWIFT_UVOT_UVW1 = Filter(lamb_UVW1, UVW1,name = 'SWIFT_UVOT_UVW1',dtype = 'photon',unit = 'Angstrom')\n",
    "SWIFT_UVOT_UVW2 = Filter(lamb_UVW2, UVW2,name = 'SWIFT_UVOT_UVW2',dtype = 'photon',unit = 'Angstrom')\n",
    "FilterVec = [SWIFT_UVOT_B,SWIFT_UVOT_U,SWIFT_UVOT_V,SWIFT_UVOT_UVM2,SWIFT_UVOT_UVW1,SWIFT_UVOT_UVW2]\n",
    "plt.plot(lamb_B,B,'b-', lamb_U,U,'k-',lamb_V,V,'g-',lamb_UVM2,UVM2,'k-',lamb_UVW1,UVW1,'r-',lamb_UVW2,UVW2,'c-')"
   ]
  },
  {
   "cell_type": "markdown",
   "metadata": {},
   "source": [
    "### Some functions\n",
    "\n",
    "* Filter Function: FilterFunction(Wavelength, Flux, FilterName). \n",
    "* Dust Reddening Law: Reddening(Wavelength, Flux, EB_V, Flux). "
   ]
  },
  {
   "cell_type": "code",
   "execution_count": 12,
   "metadata": {},
   "outputs": [],
   "source": [
    "## Filter Function\n",
    "## Input: Spectrum: wavelength sequence; magnitude sequence; and filter name\n",
    "## filter name includes: SWIFT_UVOT_B,SWIFT_UVOT_U,SWIFT_UVOT_V,SWIFT_UVOT_UVM2,SWIFT_UVOT_UVW1,SWIFT_UVOT_UVW2\n",
    "def FilterFunction(Wavelength, Flux, FilterName):\n",
    "    flux = FilterName.get_flux(Wavelength,Flux)\n",
    "    return -2.5*np.log10(flux) - FilterName.Vega_zero_mag"
   ]
  },
  {
   "cell_type": "code",
   "execution_count": 47,
   "metadata": {},
   "outputs": [
    {
     "name": "stdout",
     "output_type": "stream",
     "text": [
      "Warning: assuming units are consistent\n",
      "0.0012449903670948004\n"
     ]
    },
    {
     "name": "stderr",
     "output_type": "stream",
     "text": [
      "unclosed file <_io.TextIOWrapper name='vega.dat' mode='r' encoding='UTF-8'>\n"
     ]
    }
   ],
   "source": [
    "##### This is to compare and make sure that Vega results in a magnitude close to zero\n",
    "vegadata = open('vega.dat','r')\n",
    "vegalines = np.genfromtxt(vegadata,dtype = [('wavelength',float),('flux',float)],\n",
    "                                        usecols=(0,1),unpack = True)\n",
    "# Store wavelength, magnitude and error in arrays to make plot easier\n",
    "vegawavelength = vegalines[0]\n",
    "vegaflux = vegalines[1]  \n",
    "FilterName=SWIFT_UVOT_UVW1\n",
    "vegamag=FilterFunction(vegawavelength, vegaflux, FilterName)\n",
    "vegadata.close\n",
    "print(vegamag)"
   ]
  },
  {
   "cell_type": "code",
   "execution_count": 46,
   "metadata": {},
   "outputs": [
    {
     "data": {
      "text/plain": [
       "<function TextIOWrapper.close()>"
      ]
     },
     "execution_count": 46,
     "metadata": {},
     "output_type": "execute_result"
    }
   ],
   "source": []
  },
  {
   "cell_type": "code",
   "execution_count": 13,
   "metadata": {},
   "outputs": [],
   "source": [
    "## Dust Reddening Law\n",
    "## Cardelli, Clayton & Mathis (1989) extinction function\n",
    "import extinction\n",
    "\n",
    "def Reddening(Wavelength,Flux,EB_V,RV):\n",
    "    return extinction.apply(extinction.ccm89(Wavelength,RV*EB_V,RV),Flux)\n",
    "   "
   ]
  },
  {
   "cell_type": "markdown",
   "metadata": {},
   "source": [
    "* Interpolate the function $S_{\\lambda}(x)$"
   ]
  },
  {
   "cell_type": "code",
   "execution_count": 15,
   "metadata": {},
   "outputs": [],
   "source": [
    "## Spectrum model: Spectrum =  Template + S_lambda(deltaM(15)-1.1)*10^Alambda(E(B-V)RV)\n",
    "## Only consider the maximum light at this moment\n",
    "## The uvmodel is from Foley et al. 2016 and gives a modification to a mean spectrum as a function of dm15(B)\n",
    "SlambdaData = open('uvmodel.data','r')\n",
    "lines = np.genfromtxt(SlambdaData,dtype = [('wavelength',float),('f_11',float),('Slambda',float)])\n",
    "SlambdaWave = lines['wavelength']\n",
    "Slambda = lines['Slambda']\n",
    "f_11 = lines['f_11']\n",
    "from scipy.interpolate import interp1d\n",
    "f11Fun = interp1d(SlambdaWave,f_11,kind = 'cubic')\n",
    "SlambdaFun = interp1d(SlambdaWave,Slambda ,kind = 'cubic')"
   ]
  },
  {
   "cell_type": "markdown",
   "metadata": {},
   "source": [
    "* Interpolate the template function (spectra sequences of SN2011fe)"
   ]
  },
  {
   "cell_type": "code",
   "execution_count": 17,
   "metadata": {},
   "outputs": [],
   "source": [
    "## Template spectrum (at maximum)\n",
    "### Read one text spectrum (SN2011fe maximum light)\n",
    "data = open('ptf11kly_20110903.obs.dat','r')\n",
    "lines = np.genfromtxt(data,dtype = [('wavelength',float),('flux',float),('fluxerr',float)],\n",
    "                                            usecols=(0,1,2),unpack = True)\n",
    "# Store wavelength, magnitude and error in arrays to make plot easier\n",
    "TemplateFlux_ = lines[1]\n",
    "TemplateLamb_ = lines[0]  \n",
    "TemplateLamb = TemplateLamb_[(TemplateLamb_>=np.min(SlambdaWave))& (TemplateLamb_<=np.max(SlambdaWave))]\n",
    "TemplateFlux = TemplateFlux_[(TemplateLamb_>=np.min(SlambdaWave))& (TemplateLamb_<=np.max(SlambdaWave))]"
   ]
  },
  {
   "cell_type": "code",
   "execution_count": 19,
   "metadata": {},
   "outputs": [],
   "source": [
    "# One toy example to see whether this method works or not \n",
    "#---------------------------------\n",
    "# Based on the known magnitude, we want to estimate three parameters using least square\n",
    "from pyspeckit import mpfit\n",
    "\n",
    "FilterVec = [SWIFT_UVOT_B,SWIFT_UVOT_U,SWIFT_UVOT_V,SWIFT_UVOT_UVM2,SWIFT_UVOT_UVW1,SWIFT_UVOT_UVW2]\n",
    "def peval(x, p):\n",
    "       # The model function with parameters p\n",
    "       SpectrumFlux = f11Fun(x) + SlambdaFun(x)*(p[0]-1.1)\n",
    "       ReddenSpectrumFlux = Reddening(x,SpectrumFlux,p[1],p[2])\n",
    "       mag0 = np.zeros(6)\n",
    "       col0 = np.zeros(5)\n",
    "       for i in range(6):\n",
    "           mag0[i] = FilterFunction(SlambdaWave,ReddenSpectrumFlux,FilterVec[i])\n",
    "       col0 = [mag0[5]-mag0[2],mag0[3]-mag0[2],mag0[4]-mag0[2],mag0[1]-mag0[2],mag0[0]-mag0[2]]\n",
    "       return(col0)\n",
    "def myfunct(p, fjac=None, x=None, y=None, err=None ):\n",
    "       # Function that return the weighted deviates\n",
    "       model = peval(x, p)\n",
    "       status = 0\n",
    "       return([status, (y-model)/err])"
   ]
  },
  {
   "cell_type": "markdown",
   "metadata": {},
   "source": [
    "To test whether the least squares fit can recover three parameters $\\Delta M_{15}(B), E(B-V), Rv$, we show a toy example below. \n",
    "* The three real parameters are [1.2,0.2,1.8].\n",
    "* Five spectroscopic colors are [w2, m2,w1,u,b] - v = [3.55, 4.97,1.83,0.13,0.32]\n",
    "* We add some disturbance to five spectroscopic colors, and asign some uncertainties towarys them. \n",
    "* The esimation for three parameters are [1.01 (0.08), 0.21 (0.03), 1.74 (1.21)]."
   ]
  },
  {
   "cell_type": "code",
   "execution_count": 21,
   "metadata": {},
   "outputs": [
    {
     "name": "stdout",
     "output_type": "stream",
     "text": [
      "Warning: assuming units are consistent\n",
      "Warning: assuming units are consistent\n",
      "Warning: assuming units are consistent\n",
      "Warning: assuming units are consistent\n",
      "Warning: assuming units are consistent\n",
      "Warning: assuming units are consistent\n",
      "Warning: assuming units are consistent\n",
      "Warning: assuming units are consistent\n",
      "Warning: assuming units are consistent\n",
      "Warning: assuming units are consistent\n",
      "Warning: assuming units are consistent\n",
      "Warning: assuming units are consistent\n",
      "Iter       1    CHI-SQUARE =  10.75592403  DOF =  2\n",
      "   P0 = 1.2  \n",
      "   P1 = 0.2  \n",
      "   P2 = 1.8  \n",
      "Warning: assuming units are consistent\n",
      "Warning: assuming units are consistent\n",
      "Warning: assuming units are consistent\n",
      "Warning: assuming units are consistent\n",
      "Warning: assuming units are consistent\n",
      "Warning: assuming units are consistent\n",
      "Warning: assuming units are consistent\n",
      "Warning: assuming units are consistent\n",
      "Warning: assuming units are consistent\n",
      "Warning: assuming units are consistent\n",
      "Warning: assuming units are consistent\n",
      "Warning: assuming units are consistent\n",
      "Warning: assuming units are consistent\n",
      "Warning: assuming units are consistent\n",
      "Warning: assuming units are consistent\n",
      "Warning: assuming units are consistent\n",
      "Warning: assuming units are consistent\n",
      "Warning: assuming units are consistent\n",
      "Warning: assuming units are consistent\n",
      "Warning: assuming units are consistent\n",
      "Warning: assuming units are consistent\n",
      "Warning: assuming units are consistent\n",
      "Warning: assuming units are consistent\n",
      "Warning: assuming units are consistent\n",
      "Iter       2    CHI-SQUARE =  0.0919481496  DOF =  2\n",
      "   P0 = 1.016199589  \n",
      "   P1 = 0.2037783168  \n",
      "   P2 = 1.146697875  \n",
      "Warning: assuming units are consistent\n",
      "Warning: assuming units are consistent\n",
      "Warning: assuming units are consistent\n",
      "Warning: assuming units are consistent\n",
      "Warning: assuming units are consistent\n",
      "Warning: assuming units are consistent\n",
      "Warning: assuming units are consistent\n",
      "Warning: assuming units are consistent\n",
      "Warning: assuming units are consistent\n",
      "Warning: assuming units are consistent\n",
      "Warning: assuming units are consistent\n",
      "Warning: assuming units are consistent\n",
      "Warning: assuming units are consistent\n",
      "Warning: assuming units are consistent\n",
      "Warning: assuming units are consistent\n",
      "Warning: assuming units are consistent\n",
      "Warning: assuming units are consistent\n",
      "Warning: assuming units are consistent\n",
      "Warning: assuming units are consistent\n",
      "Warning: assuming units are consistent\n",
      "Warning: assuming units are consistent\n",
      "Warning: assuming units are consistent\n",
      "Warning: assuming units are consistent\n",
      "Warning: assuming units are consistent\n",
      "Iter       3    CHI-SQUARE =  0.07121618002  DOF =  2\n",
      "   P0 = 1.032098649  \n",
      "   P1 = 0.1994245137  \n",
      "   P2 = 0.8422996542  \n",
      "Warning: assuming units are consistent\n",
      "Warning: assuming units are consistent\n",
      "Warning: assuming units are consistent\n",
      "Warning: assuming units are consistent\n",
      "Warning: assuming units are consistent\n",
      "Warning: assuming units are consistent\n",
      "Warning: assuming units are consistent\n",
      "Warning: assuming units are consistent\n",
      "Warning: assuming units are consistent\n",
      "Warning: assuming units are consistent\n",
      "Warning: assuming units are consistent\n",
      "Warning: assuming units are consistent\n",
      "Warning: assuming units are consistent\n",
      "Warning: assuming units are consistent\n",
      "Warning: assuming units are consistent\n",
      "Warning: assuming units are consistent\n",
      "Warning: assuming units are consistent\n",
      "Warning: assuming units are consistent\n",
      "Warning: assuming units are consistent\n",
      "Warning: assuming units are consistent\n",
      "Warning: assuming units are consistent\n",
      "Warning: assuming units are consistent\n",
      "Warning: assuming units are consistent\n",
      "Warning: assuming units are consistent\n",
      "Iter       4    CHI-SQUARE =  0.0710521267  DOF =  2\n",
      "   P0 = 1.032167715  \n",
      "   P1 = 0.1994377525  \n",
      "   P2 = 0.8369461984  \n",
      "Warning: assuming units are consistent\n",
      "Warning: assuming units are consistent\n",
      "Warning: assuming units are consistent\n",
      "Warning: assuming units are consistent\n",
      "Warning: assuming units are consistent\n",
      "Warning: assuming units are consistent\n",
      "Warning: assuming units are consistent\n",
      "Warning: assuming units are consistent\n",
      "Warning: assuming units are consistent\n",
      "Warning: assuming units are consistent\n",
      "Warning: assuming units are consistent\n",
      "Warning: assuming units are consistent\n",
      "Warning: assuming units are consistent\n",
      "Warning: assuming units are consistent\n",
      "Warning: assuming units are consistent\n",
      "Warning: assuming units are consistent\n",
      "Warning: assuming units are consistent\n",
      "Warning: assuming units are consistent\n",
      "Warning: assuming units are consistent\n",
      "Warning: assuming units are consistent\n",
      "Warning: assuming units are consistent\n",
      "Warning: assuming units are consistent\n",
      "Warning: assuming units are consistent\n",
      "Warning: assuming units are consistent\n",
      "Iter       5    CHI-SQUARE =  0.07105212631  DOF =  2\n",
      "   P0 = 1.032169244  \n",
      "   P1 = 0.1994377738  \n",
      "   P2 = 0.8369498498  \n",
      "Warning: assuming units are consistent\n",
      "Warning: assuming units are consistent\n",
      "Warning: assuming units are consistent\n",
      "Warning: assuming units are consistent\n",
      "Warning: assuming units are consistent\n",
      "Warning: assuming units are consistent\n",
      "Warning: assuming units are consistent\n",
      "Warning: assuming units are consistent\n",
      "Warning: assuming units are consistent\n",
      "Warning: assuming units are consistent\n",
      "Warning: assuming units are consistent\n",
      "Warning: assuming units are consistent\n",
      "Warning: assuming units are consistent\n",
      "Warning: assuming units are consistent\n",
      "Warning: assuming units are consistent\n",
      "Warning: assuming units are consistent\n",
      "Warning: assuming units are consistent\n",
      "Warning: assuming units are consistent\n",
      "Warning: assuming units are consistent\n",
      "Warning: assuming units are consistent\n",
      "Warning: assuming units are consistent\n",
      "Warning: assuming units are consistent\n",
      "Warning: assuming units are consistent\n",
      "Warning: assuming units are consistent\n",
      "Warning: assuming units are consistent\n",
      "Warning: assuming units are consistent\n",
      "Warning: assuming units are consistent\n",
      "Warning: assuming units are consistent\n",
      "Warning: assuming units are consistent\n",
      "Warning: assuming units are consistent\n",
      "status:  1\n",
      "Iterations:  5\n",
      "Fitted pars:  [1.03216924 0.19943777 0.83694985]\n",
      "Uncertainties:  [0.14989399 0.0319309  2.20920646]\n"
     ]
    }
   ],
   "source": [
    "# Generate model data for a Gaussian with param mu and sigma and add noise\n",
    "import warnings\n",
    "warnings.filterwarnings('once')\n",
    "x= SlambdaWave\n",
    "preal=[1,0.22,2]\n",
    "y_true=peval(x,preal)\n",
    "mu,sigma=0,1\n",
    "y      = y_true + 0.01 * np.random.normal(mu,sigma, len(y_true))\n",
    "err    = 0.1 * np.random.normal(mu,sigma, len(y_true) )\n",
    "# Initial estimates for MPFIT\n",
    "p0 = [1.2, 0.2,1.8]\n",
    "fa = {'x':x, 'y':y, 'err':err}\n",
    "\n",
    "# Call MPFIT with user defined function 'myfunct'\n",
    "m = mpfit.mpfit(myfunct, p0, functkw=fa )\n",
    "\n",
    "print(\"status: \", m.status)\n",
    "if (m.status <= 0): \n",
    "   print('error message = ', m.errmsg)\n",
    "else:\n",
    "   print(\"Iterations: \", m.niter)\n",
    "   print(\"Fitted pars: \", m.params)\n",
    "   print(\"Uncertainties: \", m.perror )"
   ]
  },
  {
   "cell_type": "code",
   "execution_count": 22,
   "metadata": {},
   "outputs": [
    {
     "data": {
      "text/plain": [
       "<matplotlib.legend.Legend at 0x14d6e2cd0>"
      ]
     },
     "execution_count": 22,
     "metadata": {},
     "output_type": "execute_result"
    },
    {
     "data": {
      "image/png": "[encoded data removed]",
      "text/plain": [
       "<Figure size 432x288 with 1 Axes>"
      ]
     },
     "metadata": {
      "needs_background": "light"
     },
     "output_type": "display_data"
    }
   ],
   "source": [
    "p = preal\n",
    "SpectrumFlux = f11Fun(x) + SlambdaFun(x)*(p[0]-1.1)\n",
    "#plt.plot(x,SpectrumFlux,'k-')\n",
    "ReddenSpectrumFlux = Reddening(x,SpectrumFlux,p[1],p[2])\n",
    "FittedSpectrum = Reddening(x, f11Fun(x) + SlambdaFun(x)*(m.params[0]-1.1), m.params[1],m.params[2])\n",
    "plt.plot(x,ReddenSpectrumFlux,'r*',label = \"True Spectra\")\n",
    "plt.plot(x,FittedSpectrum,'g.', label = \"Fitted Spectra\")\n",
    "plt.legend(loc=\"upper left\")"
   ]
  },
  {
   "cell_type": "code",
   "execution_count": 23,
   "metadata": {},
   "outputs": [
    {
     "name": "stdout",
     "output_type": "stream",
     "text": [
      "Warning: assuming units are consistent\n",
      "Warning: assuming units are consistent\n",
      "Warning: assuming units are consistent\n",
      "Warning: assuming units are consistent\n",
      "Warning: assuming units are consistent\n",
      "Warning: assuming units are consistent\n"
     ]
    }
   ],
   "source": [
    "import warnings\n",
    "warnings.filterwarnings('ignore')\n",
    "y_true=peval(x,preal)"
   ]
  },
  {
   "cell_type": "code",
   "execution_count": 24,
   "metadata": {},
   "outputs": [
    {
     "name": "stdout",
     "output_type": "stream",
     "text": [
      "Warning: assuming units are consistent\n"
     ]
    },
    {
     "data": {
      "text/plain": [
       "3.6729253517202336"
      ]
     },
     "execution_count": 24,
     "metadata": {},
     "output_type": "execute_result"
    }
   ],
   "source": [
    "SpectrumFlux = f11Fun(x) + SlambdaFun(x)*(p[0]-1.1)\n",
    "ReddenSpectrumFlux = Reddening(x,SpectrumFlux,p[1],p[2])\n",
    "#FilterFunction(x, ReddenSpectrumFlux, SWIFT_UVOT_B)\n",
    "import warnings  \n",
    "warnings.filterwarnings('once')\n",
    "SWIFT_UVOT_B.get_flux(x,ReddenSpectrumFlux)"
   ]
  },
  {
   "cell_type": "code",
   "execution_count": 27,
   "metadata": {},
   "outputs": [
    {
     "name": "stdout",
     "output_type": "stream",
     "text": [
      "20.973813554661863\n"
     ]
    }
   ],
   "source": [
    "print(SWIFT_UVOT_UVW1.Vega_zero_mag)"
   ]
  },
  {
   "cell_type": "code",
   "execution_count": 28,
   "metadata": {
    "scrolled": true
   },
   "outputs": [
    {
     "name": "stdout",
     "output_type": "stream",
     "text": [
      "[1700. 1705. 1710. 1715. 1720. 1725. 1730. 1735. 1740. 1745. 1750. 1755.\n",
      " 1760. 1765. 1770. 1775. 1780. 1785. 1790. 1795. 1800. 1805. 1810. 1815.\n",
      " 1820. 1825. 1830. 1835. 1840. 1845. 1850. 1855. 1860. 1865. 1870. 1875.\n",
      " 1880. 1885. 1890. 1895. 1900. 1905. 1910. 1915. 1920. 1925. 1930. 1935.\n",
      " 1940. 1945. 1950. 1955. 1960. 1965. 1970. 1975. 1980. 1985. 1990. 1995.\n",
      " 2000. 2005. 2010. 2015. 2020. 2025. 2030. 2035. 2040. 2045. 2050. 2055.\n",
      " 2060. 2065. 2070. 2075. 2080. 2085. 2090. 2095. 2100. 2105. 2110. 2115.\n",
      " 2120. 2125. 2130. 2135. 2140. 2145. 2150. 2155. 2160. 2165. 2170. 2175.\n",
      " 2180. 2185. 2190. 2195. 2200. 2205. 2210. 2215. 2220. 2225. 2230. 2235.\n",
      " 2240. 2245. 2250. 2255. 2260. 2265. 2270. 2275. 2280. 2285. 2290. 2295.\n",
      " 2300. 2305. 2310. 2315. 2320. 2325. 2330. 2335. 2340. 2345. 2350. 2355.\n",
      " 2360. 2365. 2370. 2375. 2380. 2385. 2390. 2395. 2400. 2405. 2410. 2415.\n",
      " 2420. 2425. 2430. 2435. 2440. 2445. 2450. 2455. 2460. 2465. 2470. 2475.\n",
      " 2480. 2485. 2490. 2495. 2500. 2505. 2510. 2515. 2520. 2525. 2530. 2535.\n",
      " 2540. 2545. 2550. 2555. 2560. 2565. 2570. 2575. 2580. 2585. 2590. 2595.\n",
      " 2600. 2605. 2610. 2615. 2620. 2625. 2630. 2635. 2640. 2645. 2650. 2655.\n",
      " 2660. 2665. 2670. 2675. 2680. 2685. 2690. 2695. 2700. 2705. 2710. 2715.\n",
      " 2720. 2725. 2730. 2735. 2740. 2745. 2750. 2755. 2760. 2765. 2770. 2775.\n",
      " 2780. 2785. 2790. 2795. 2800. 2805. 2810. 2815. 2820. 2825. 2830. 2835.\n",
      " 2840. 2845. 2850. 2855. 2860. 2865. 2870. 2875. 2880. 2885. 2890. 2895.\n",
      " 2900. 2905. 2910. 2915. 2920. 2925. 2930. 2935. 2940. 2945. 2950. 2955.\n",
      " 2960. 2965. 2970. 2975. 2980. 2985. 2990. 2995. 3000. 3005. 3010. 3015.\n",
      " 3020. 3025. 3030. 3035. 3040. 3045. 3050. 3055. 3060. 3065. 3070. 3075.\n",
      " 3080. 3085. 3090. 3095. 3100. 3105. 3110. 3115. 3120. 3125. 3130. 3135.\n",
      " 3140. 3145. 3150. 3155. 3160. 3165. 3170. 3175. 3180. 3185. 3190. 3195.\n",
      " 3200. 3205. 3210. 3215. 3220. 3225. 3230. 3235. 3240. 3245. 3250. 3255.\n",
      " 3260. 3265. 3270. 3275. 3280. 3285. 3290. 3295. 3300. 3305. 3310. 3315.\n",
      " 3320. 3325. 3330. 3335. 3340. 3345. 3350. 3355. 3360. 3365. 3370. 3375.\n",
      " 3380. 3385. 3390. 3395. 3400. 3405. 3410. 3415. 3420. 3425. 3430. 3435.\n",
      " 3440. 3445. 3450. 3455. 3460. 3465. 3470. 3475. 3480. 3485. 3490. 3495.\n",
      " 3500. 3505. 3510. 3515. 3520. 3525. 3530. 3535. 3540. 3545. 3550. 3555.\n",
      " 3560. 3565. 3570. 3575. 3580. 3585. 3590. 3595. 3600. 3605. 3610. 3615.\n",
      " 3620. 3625. 3630. 3635. 3640. 3645. 3650. 3655. 3660. 3665. 3670. 3675.\n",
      " 3680. 3685. 3690. 3695. 3700. 3705. 3710. 3715. 3720. 3725. 3730. 3735.\n",
      " 3740. 3745. 3750. 3755. 3760. 3765. 3770. 3775. 3780. 3785. 3790. 3795.\n",
      " 3800. 3805. 3810. 3815. 3820. 3825. 3830. 3835. 3840. 3845. 3850. 3855.\n",
      " 3860. 3865. 3870. 3875. 3880. 3885. 3890. 3895. 3900. 3905. 3910. 3915.\n",
      " 3920. 3925. 3930. 3935. 3940. 3945. 3950. 3955. 3960. 3965. 3970. 3975.\n",
      " 3980. 3985. 3990. 3995. 4000. 4005. 4010. 4015. 4020. 4025. 4030. 4035.\n",
      " 4040. 4045. 4050. 4055. 4060. 4065. 4070. 4075. 4080. 4085. 4090. 4095.\n",
      " 4100. 4105. 4110. 4115. 4120. 4125. 4130. 4135. 4140. 4145. 4150. 4155.\n",
      " 4160. 4165. 4170. 4175. 4180. 4185. 4190. 4195. 4200. 4205. 4210. 4215.\n",
      " 4220. 4225. 4230. 4235. 4240. 4245. 4250. 4255. 4260. 4265. 4270. 4275.\n",
      " 4280. 4285. 4290. 4295. 4300. 4305. 4310. 4315. 4320. 4325. 4330. 4335.\n",
      " 4340. 4345. 4350. 4355. 4360. 4365. 4370. 4375. 4380. 4385. 4390. 4395.\n",
      " 4400. 4405. 4410. 4415. 4420. 4425. 4430. 4435. 4440. 4445. 4450. 4455.\n",
      " 4460. 4465. 4470. 4475. 4480. 4485. 4490. 4495. 4500. 4505. 4510. 4515.\n",
      " 4520. 4525. 4530. 4535. 4540. 4545. 4550. 4555. 4560. 4565. 4570. 4575.\n",
      " 4580. 4585. 4590. 4595. 4600. 4605. 4610. 4615. 4620. 4625. 4630. 4635.\n",
      " 4640. 4645. 4650. 4655. 4660. 4665. 4670. 4675. 4680. 4685. 4690. 4695.\n",
      " 4700. 4705. 4710. 4715. 4720. 4725. 4730. 4735. 4740. 4745. 4750. 4755.\n",
      " 4760. 4765. 4770. 4775. 4780. 4785. 4790. 4795. 4800. 4805. 4810. 4815.\n",
      " 4820. 4825. 4830. 4835. 4840. 4845. 4850. 4855. 4860. 4865. 4870. 4875.\n",
      " 4880. 4885. 4890. 4895. 4900. 4905. 4910. 4915. 4920. 4925. 4930. 4935.\n",
      " 4940. 4945. 4950. 4955. 4960. 4965. 4970. 4975. 4980. 4985. 4990. 4995.\n",
      " 5000. 5005. 5010. 5015. 5020. 5025. 5030. 5035. 5040. 5045. 5050. 5055.\n",
      " 5060. 5065. 5070. 5075. 5080. 5085. 5090. 5095. 5100. 5105. 5110. 5115.\n",
      " 5120. 5125. 5130. 5135. 5140. 5145. 5150. 5155. 5160. 5165. 5170. 5175.\n",
      " 5180. 5185. 5190. 5195. 5200. 5205. 5210. 5215. 5220. 5225. 5230. 5235.\n",
      " 5240. 5245. 5250. 5255. 5260. 5265. 5270. 5275. 5280. 5285. 5290. 5295.\n",
      " 5300. 5305. 5310. 5315. 5320. 5325. 5330. 5335. 5340. 5345. 5350. 5355.\n",
      " 5360. 5365. 5370. 5375. 5380. 5385. 5390. 5395. 5400. 5405. 5410. 5415.\n",
      " 5420. 5425. 5430. 5435. 5440. 5445. 5450. 5455. 5460. 5465. 5470. 5475.\n",
      " 5480. 5485. 5490. 5495. 5500. 5505. 5510. 5515. 5520. 5525. 5530. 5535.\n",
      " 5540. 5545. 5550. 5555. 5560. 5565. 5570. 5575. 5580. 5585. 5590. 5595.\n",
      " 5600. 5605. 5610. 5615. 5620. 5625. 5630. 5635. 5640. 5645. 5650. 5655.\n",
      " 5660. 5665. 5670. 5675. 5680. 5685. 5690. 5695.]\n"
     ]
    }
   ],
   "source": []
  },
  {
   "cell_type": "code",
   "execution_count": null,
   "metadata": {},
   "outputs": [],
   "source": []
  }
 ],
 "metadata": {
  "kernelspec": {
   "display_name": "Python 3 (ipykernel)",
   "language": "python",
   "name": "python3"
  },
  "language_info": {
   "codemirror_mode": {
    "name": "ipython",
    "version": 3
   },
   "file_extension": ".py",
   "mimetype": "text/x-python",
   "name": "python",
   "nbconvert_exporter": "python",
   "pygments_lexer": "ipython3",
   "version": "3.9.12"
  }
 },
 "nbformat": 4,
 "nbformat_minor": 4
}
